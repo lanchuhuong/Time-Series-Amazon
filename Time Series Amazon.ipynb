{
 "cells": [
  {
   "cell_type": "code",
   "execution_count": 89,
   "metadata": {},
   "outputs": [],
   "source": [
    "import numpy as np # linear algebra\n",
    "import pandas as pd # data processing, CSV file I/O (e.g. pd.read_csv)\n",
    "import matplotlib.pyplot as plt\n",
    "import seaborn as sns\n",
    "from sklearn.manifold import TSNE\n",
    "from sklearn.decomposition import PCA, TruncatedSVD\n",
    "from sklearn.metrics import r2_score, confusion_matrix\n",
    "import matplotlib.patches as mpatches\n",
    "import time\n",
    "import datetime\n",
    "import scipy.fftpack"
   ]
  },
  {
   "cell_type": "code",
   "execution_count": 67,
   "metadata": {},
   "outputs": [],
   "source": [
    "df = pd.read_csv('Amazon.csv')\n",
    "df['Date'] = pd.to_datetime(df['Date'], format = '%Y-%m-%d')\n",
    "df.index = df['Date']"
   ]
  },
  {
   "cell_type": "code",
   "execution_count": 68,
   "metadata": {},
   "outputs": [
    {
     "data": {
      "text/html": [
       "<div>\n",
       "<style scoped>\n",
       "    .dataframe tbody tr th:only-of-type {\n",
       "        vertical-align: middle;\n",
       "    }\n",
       "\n",
       "    .dataframe tbody tr th {\n",
       "        vertical-align: top;\n",
       "    }\n",
       "\n",
       "    .dataframe thead th {\n",
       "        text-align: right;\n",
       "    }\n",
       "</style>\n",
       "<table border=\"1\" class=\"dataframe\">\n",
       "  <thead>\n",
       "    <tr style=\"text-align: right;\">\n",
       "      <th></th>\n",
       "      <th>Date</th>\n",
       "      <th>Open</th>\n",
       "      <th>High</th>\n",
       "      <th>Low</th>\n",
       "      <th>Close</th>\n",
       "      <th>Adj Close</th>\n",
       "      <th>Volume</th>\n",
       "    </tr>\n",
       "    <tr>\n",
       "      <th>Date</th>\n",
       "      <th></th>\n",
       "      <th></th>\n",
       "      <th></th>\n",
       "      <th></th>\n",
       "      <th></th>\n",
       "      <th></th>\n",
       "      <th></th>\n",
       "    </tr>\n",
       "  </thead>\n",
       "  <tbody>\n",
       "    <tr>\n",
       "      <th>1997-05-15</th>\n",
       "      <td>1997-05-15</td>\n",
       "      <td>2.437500</td>\n",
       "      <td>2.500000</td>\n",
       "      <td>1.927083</td>\n",
       "      <td>1.958333</td>\n",
       "      <td>1.958333</td>\n",
       "      <td>72156000</td>\n",
       "    </tr>\n",
       "    <tr>\n",
       "      <th>1997-05-16</th>\n",
       "      <td>1997-05-16</td>\n",
       "      <td>1.968750</td>\n",
       "      <td>1.979167</td>\n",
       "      <td>1.708333</td>\n",
       "      <td>1.729167</td>\n",
       "      <td>1.729167</td>\n",
       "      <td>14700000</td>\n",
       "    </tr>\n",
       "    <tr>\n",
       "      <th>1997-05-19</th>\n",
       "      <td>1997-05-19</td>\n",
       "      <td>1.760417</td>\n",
       "      <td>1.770833</td>\n",
       "      <td>1.625000</td>\n",
       "      <td>1.708333</td>\n",
       "      <td>1.708333</td>\n",
       "      <td>6106800</td>\n",
       "    </tr>\n",
       "    <tr>\n",
       "      <th>1997-05-20</th>\n",
       "      <td>1997-05-20</td>\n",
       "      <td>1.729167</td>\n",
       "      <td>1.750000</td>\n",
       "      <td>1.635417</td>\n",
       "      <td>1.635417</td>\n",
       "      <td>1.635417</td>\n",
       "      <td>5467200</td>\n",
       "    </tr>\n",
       "    <tr>\n",
       "      <th>1997-05-21</th>\n",
       "      <td>1997-05-21</td>\n",
       "      <td>1.635417</td>\n",
       "      <td>1.645833</td>\n",
       "      <td>1.375000</td>\n",
       "      <td>1.427083</td>\n",
       "      <td>1.427083</td>\n",
       "      <td>18853200</td>\n",
       "    </tr>\n",
       "  </tbody>\n",
       "</table>\n",
       "</div>"
      ],
      "text/plain": [
       "                 Date      Open      High       Low     Close  Adj Close  \\\n",
       "Date                                                                       \n",
       "1997-05-15 1997-05-15  2.437500  2.500000  1.927083  1.958333   1.958333   \n",
       "1997-05-16 1997-05-16  1.968750  1.979167  1.708333  1.729167   1.729167   \n",
       "1997-05-19 1997-05-19  1.760417  1.770833  1.625000  1.708333   1.708333   \n",
       "1997-05-20 1997-05-20  1.729167  1.750000  1.635417  1.635417   1.635417   \n",
       "1997-05-21 1997-05-21  1.635417  1.645833  1.375000  1.427083   1.427083   \n",
       "\n",
       "              Volume  \n",
       "Date                  \n",
       "1997-05-15  72156000  \n",
       "1997-05-16  14700000  \n",
       "1997-05-19   6106800  \n",
       "1997-05-20   5467200  \n",
       "1997-05-21  18853200  "
      ]
     },
     "execution_count": 68,
     "metadata": {},
     "output_type": "execute_result"
    }
   ],
   "source": [
    "df.head()\n"
   ]
  },
  {
   "cell_type": "markdown",
   "metadata": {},
   "source": [
    "# Exploratory Data Analysis"
   ]
  },
  {
   "cell_type": "code",
   "execution_count": 29,
   "metadata": {},
   "outputs": [
    {
     "name": "stdout",
     "output_type": "stream",
     "text": [
      "<class 'pandas.core.frame.DataFrame'>\n",
      "Int64Index: 2516 entries, 3179 to 5694\n",
      "Data columns (total 7 columns):\n",
      " #   Column     Non-Null Count  Dtype         \n",
      "---  ------     --------------  -----         \n",
      " 0   Date       2516 non-null   datetime64[ns]\n",
      " 1   Open       2516 non-null   float64       \n",
      " 2   High       2516 non-null   float64       \n",
      " 3   Low        2516 non-null   float64       \n",
      " 4   Close      2516 non-null   float64       \n",
      " 5   Adj Close  2516 non-null   float64       \n",
      " 6   Volume     2516 non-null   int64         \n",
      "dtypes: datetime64[ns](1), float64(5), int64(1)\n",
      "memory usage: 157.2 KB\n"
     ]
    }
   ],
   "source": [
    "df1.info()"
   ]
  },
  {
   "cell_type": "code",
   "execution_count": 30,
   "metadata": {},
   "outputs": [
    {
     "data": {
      "image/png": "[encoded data removed]",
      "text/plain": [
       "<Figure size 432x288 with 1 Axes>"
      ]
     },
     "metadata": {
      "needs_background": "light"
     },
     "output_type": "display_data"
    }
   ],
   "source": [
    "plt.plot(df['Date'], df['Open'])\n",
    "plt.show()"
   ]
  },
  {
   "cell_type": "code",
   "execution_count": 31,
   "metadata": {},
   "outputs": [
    {
     "data": {
      "text/plain": [
       "<matplotlib.axes._subplots.AxesSubplot at 0x105ee98e0>"
      ]
     },
     "execution_count": 31,
     "metadata": {},
     "output_type": "execute_result"
    },
    {
     "data": {
      "image/png": "[encoded data removed]",
      "text/plain": [
       "<Figure size 432x288 with 1 Axes>"
      ]
     },
     "metadata": {
      "needs_background": "light"
     },
     "output_type": "display_data"
    }
   ],
   "source": [
    "df['Open'].hist()"
   ]
  },
  {
   "cell_type": "code",
   "execution_count": 32,
   "metadata": {},
   "outputs": [
    {
     "data": {
      "text/plain": [
       "<matplotlib.axes._subplots.AxesSubplot at 0x104efdb80>"
      ]
     },
     "execution_count": 32,
     "metadata": {},
     "output_type": "execute_result"
    },
    {
     "data": {
      "image/png": "[encoded data removed]",
      "text/plain": [
       "<Figure size 432x288 with 1 Axes>"
      ]
     },
     "metadata": {
      "needs_background": "light"
     },
     "output_type": "display_data"
    }
   ],
   "source": [
    "df['Close'].hist()"
   ]
  },
  {
   "cell_type": "code",
   "execution_count": 33,
   "metadata": {},
   "outputs": [
    {
     "data": {
      "image/png": "[encoded data removed]",
      "text/plain": [
       "<Figure size 432x288 with 1 Axes>"
      ]
     },
     "metadata": {
      "needs_background": "light"
     },
     "output_type": "display_data"
    }
   ],
   "source": [
    "plt.plot(df['Date'], df['Close'])\n",
    "plt.plot(df['Date'], df['Open'])\n",
    "plt.show()"
   ]
  },
  {
   "cell_type": "code",
   "execution_count": 34,
   "metadata": {},
   "outputs": [
    {
     "data": {
      "text/plain": [
       "[<matplotlib.lines.Line2D at 0x1220d0370>]"
      ]
     },
     "execution_count": 34,
     "metadata": {},
     "output_type": "execute_result"
    },
    {
     "data": {
      "image/png": "[encoded data removed]",
      "text/plain": [
       "<Figure size 432x288 with 1 Axes>"
      ]
     },
     "metadata": {
      "needs_background": "light"
     },
     "output_type": "display_data"
    }
   ],
   "source": [
    "plt.plot(df['Date'], df['Open']/df['Close'])"
   ]
  },
  {
   "cell_type": "code",
   "execution_count": 35,
   "metadata": {},
   "outputs": [
    {
     "data": {
      "image/png": "[encoded data removed]",
      "text/plain": [
       "<Figure size 432x288 with 1 Axes>"
      ]
     },
     "metadata": {
      "needs_background": "light"
     },
     "output_type": "display_data"
    }
   ],
   "source": [
    "plt.plot(df['Date'], df['Close'])\n",
    "plt.plot(df['Date'], df['Open'])\n",
    "plt.xlim([datetime.datetime(2010,1,1),datetime.datetime(2020,7,31)])\n",
    "plt.yscale('log')\n",
    "plt.show()"
   ]
  },
  {
   "cell_type": "code",
   "execution_count": 36,
   "metadata": {},
   "outputs": [
    {
     "data": {
      "text/html": [
       "<div>\n",
       "<style scoped>\n",
       "    .dataframe tbody tr th:only-of-type {\n",
       "        vertical-align: middle;\n",
       "    }\n",
       "\n",
       "    .dataframe tbody tr th {\n",
       "        vertical-align: top;\n",
       "    }\n",
       "\n",
       "    .dataframe thead th {\n",
       "        text-align: right;\n",
       "    }\n",
       "</style>\n",
       "<table border=\"1\" class=\"dataframe\">\n",
       "  <thead>\n",
       "    <tr style=\"text-align: right;\">\n",
       "      <th></th>\n",
       "      <th>Open</th>\n",
       "      <th>High</th>\n",
       "      <th>Low</th>\n",
       "      <th>Close</th>\n",
       "      <th>Adj Close</th>\n",
       "      <th>Volume</th>\n",
       "    </tr>\n",
       "  </thead>\n",
       "  <tbody>\n",
       "    <tr>\n",
       "      <th>count</th>\n",
       "      <td>2516.000000</td>\n",
       "      <td>2516.000000</td>\n",
       "      <td>2516.000000</td>\n",
       "      <td>2516.000000</td>\n",
       "      <td>2516.000000</td>\n",
       "      <td>2.516000e+03</td>\n",
       "    </tr>\n",
       "    <tr>\n",
       "      <th>mean</th>\n",
       "      <td>676.391252</td>\n",
       "      <td>682.786188</td>\n",
       "      <td>668.920656</td>\n",
       "      <td>676.207079</td>\n",
       "      <td>676.207079</td>\n",
       "      <td>4.529027e+06</td>\n",
       "    </tr>\n",
       "    <tr>\n",
       "      <th>std</th>\n",
       "      <td>580.910946</td>\n",
       "      <td>585.737518</td>\n",
       "      <td>574.697830</td>\n",
       "      <td>580.440707</td>\n",
       "      <td>580.440707</td>\n",
       "      <td>2.857670e+06</td>\n",
       "    </tr>\n",
       "    <tr>\n",
       "      <th>min</th>\n",
       "      <td>105.930000</td>\n",
       "      <td>111.290001</td>\n",
       "      <td>105.800003</td>\n",
       "      <td>108.610001</td>\n",
       "      <td>108.610001</td>\n",
       "      <td>8.813000e+05</td>\n",
       "    </tr>\n",
       "    <tr>\n",
       "      <th>25%</th>\n",
       "      <td>227.257496</td>\n",
       "      <td>230.859997</td>\n",
       "      <td>224.682507</td>\n",
       "      <td>227.597496</td>\n",
       "      <td>227.597496</td>\n",
       "      <td>2.782700e+06</td>\n",
       "    </tr>\n",
       "    <tr>\n",
       "      <th>50%</th>\n",
       "      <td>375.445007</td>\n",
       "      <td>379.154999</td>\n",
       "      <td>373.000000</td>\n",
       "      <td>375.140015</td>\n",
       "      <td>375.140015</td>\n",
       "      <td>3.797400e+06</td>\n",
       "    </tr>\n",
       "    <tr>\n",
       "      <th>75%</th>\n",
       "      <td>971.429993</td>\n",
       "      <td>976.155014</td>\n",
       "      <td>961.187485</td>\n",
       "      <td>967.847488</td>\n",
       "      <td>967.847488</td>\n",
       "      <td>5.322375e+06</td>\n",
       "    </tr>\n",
       "    <tr>\n",
       "      <th>max</th>\n",
       "      <td>2038.109985</td>\n",
       "      <td>2050.500000</td>\n",
       "      <td>2013.000000</td>\n",
       "      <td>2039.510010</td>\n",
       "      <td>2039.510010</td>\n",
       "      <td>4.242110e+07</td>\n",
       "    </tr>\n",
       "  </tbody>\n",
       "</table>\n",
       "</div>"
      ],
      "text/plain": [
       "              Open         High          Low        Close    Adj Close  \\\n",
       "count  2516.000000  2516.000000  2516.000000  2516.000000  2516.000000   \n",
       "mean    676.391252   682.786188   668.920656   676.207079   676.207079   \n",
       "std     580.910946   585.737518   574.697830   580.440707   580.440707   \n",
       "min     105.930000   111.290001   105.800003   108.610001   108.610001   \n",
       "25%     227.257496   230.859997   224.682507   227.597496   227.597496   \n",
       "50%     375.445007   379.154999   373.000000   375.140015   375.140015   \n",
       "75%     971.429993   976.155014   961.187485   967.847488   967.847488   \n",
       "max    2038.109985  2050.500000  2013.000000  2039.510010  2039.510010   \n",
       "\n",
       "             Volume  \n",
       "count  2.516000e+03  \n",
       "mean   4.529027e+06  \n",
       "std    2.857670e+06  \n",
       "min    8.813000e+05  \n",
       "25%    2.782700e+06  \n",
       "50%    3.797400e+06  \n",
       "75%    5.322375e+06  \n",
       "max    4.242110e+07  "
      ]
     },
     "execution_count": 36,
     "metadata": {},
     "output_type": "execute_result"
    }
   ],
   "source": [
    "df1.describe()"
   ]
  },
  {
   "cell_type": "code",
   "execution_count": 37,
   "metadata": {},
   "outputs": [
    {
     "data": {
      "text/plain": [
       "False"
      ]
     },
     "execution_count": 37,
     "metadata": {},
     "output_type": "execute_result"
    }
   ],
   "source": [
    "df['Open'].isnull().values.any()"
   ]
  },
  {
   "cell_type": "code",
   "execution_count": 38,
   "metadata": {},
   "outputs": [
    {
     "data": {
      "text/plain": [
       "False"
      ]
     },
     "execution_count": 38,
     "metadata": {},
     "output_type": "execute_result"
    }
   ],
   "source": [
    "df.isnull().values.any()"
   ]
  },
  {
   "cell_type": "code",
   "execution_count": 39,
   "metadata": {},
   "outputs": [
    {
     "data": {
      "text/plain": [
       "[<matplotlib.lines.Line2D at 0x12282f5b0>]"
      ]
     },
     "execution_count": 39,
     "metadata": {},
     "output_type": "execute_result"
    },
    {
     "data": {
      "image/png": "[encoded data removed]",
      "text/plain": [
       "<Figure size 432x288 with 1 Axes>"
      ]
     },
     "metadata": {
      "needs_background": "light"
     },
     "output_type": "display_data"
    }
   ],
   "source": [
    "corrs = [ df['Open'].corr(df['Open'].shift(n)) for n in range(100)]\n",
    "plt.plot(np.array(range(100)), corrs)\n",
    "corrs2 = [ df1['Open'].corr(df1['Open'].shift(n)) for n in range(100)]\n",
    "plt.plot(np.array(range(100)), corrs2)"
   ]
  },
  {
   "cell_type": "markdown",
   "metadata": {},
   "source": [
    "# Creating time-lags"
   ]
  },
  {
   "cell_type": "code",
   "execution_count": 73,
   "metadata": {},
   "outputs": [],
   "source": [
    "# These are the \"time lags\"\n",
    "shifts = np.arange(1, 100).astype(int)\n",
    "shifted_data = {\"lag_{}_day\".format(day_shift): df['Open'].shift(day_shift) for day_shift in shifts}\n",
    "df_shifted = pd.DataFrame(shifted_data)\n",
    "df_shifted.index = df.index\n",
    "df_shifted.dropna(inplace=True)"
   ]
  },
  {
   "cell_type": "code",
   "execution_count": 74,
   "metadata": {},
   "outputs": [
    {
     "data": {
      "text/html": [
       "<div>\n",
       "<style scoped>\n",
       "    .dataframe tbody tr th:only-of-type {\n",
       "        vertical-align: middle;\n",
       "    }\n",
       "\n",
       "    .dataframe tbody tr th {\n",
       "        vertical-align: top;\n",
       "    }\n",
       "\n",
       "    .dataframe thead th {\n",
       "        text-align: right;\n",
       "    }\n",
       "</style>\n",
       "<table border=\"1\" class=\"dataframe\">\n",
       "  <thead>\n",
       "    <tr style=\"text-align: right;\">\n",
       "      <th></th>\n",
       "      <th>lag_1_day</th>\n",
       "      <th>lag_2_day</th>\n",
       "      <th>lag_3_day</th>\n",
       "      <th>lag_4_day</th>\n",
       "      <th>lag_5_day</th>\n",
       "      <th>lag_6_day</th>\n",
       "      <th>lag_7_day</th>\n",
       "      <th>lag_8_day</th>\n",
       "      <th>lag_9_day</th>\n",
       "      <th>lag_10_day</th>\n",
       "      <th>...</th>\n",
       "      <th>lag_90_day</th>\n",
       "      <th>lag_91_day</th>\n",
       "      <th>lag_92_day</th>\n",
       "      <th>lag_93_day</th>\n",
       "      <th>lag_94_day</th>\n",
       "      <th>lag_95_day</th>\n",
       "      <th>lag_96_day</th>\n",
       "      <th>lag_97_day</th>\n",
       "      <th>lag_98_day</th>\n",
       "      <th>lag_99_day</th>\n",
       "    </tr>\n",
       "    <tr>\n",
       "      <th>Date</th>\n",
       "      <th></th>\n",
       "      <th></th>\n",
       "      <th></th>\n",
       "      <th></th>\n",
       "      <th></th>\n",
       "      <th></th>\n",
       "      <th></th>\n",
       "      <th></th>\n",
       "      <th></th>\n",
       "      <th></th>\n",
       "      <th></th>\n",
       "      <th></th>\n",
       "      <th></th>\n",
       "      <th></th>\n",
       "      <th></th>\n",
       "      <th></th>\n",
       "      <th></th>\n",
       "      <th></th>\n",
       "      <th></th>\n",
       "      <th></th>\n",
       "      <th></th>\n",
       "    </tr>\n",
       "  </thead>\n",
       "  <tbody>\n",
       "    <tr>\n",
       "      <th>1997-10-06</th>\n",
       "      <td>4.083333</td>\n",
       "      <td>4.041667</td>\n",
       "      <td>4.437500</td>\n",
       "      <td>4.000000</td>\n",
       "      <td>4.145833</td>\n",
       "      <td>4.072917</td>\n",
       "      <td>4.343750</td>\n",
       "      <td>4.645833</td>\n",
       "      <td>4.489583</td>\n",
       "      <td>4.000000</td>\n",
       "      <td>...</td>\n",
       "      <td>1.541667</td>\n",
       "      <td>1.625000</td>\n",
       "      <td>1.510417</td>\n",
       "      <td>1.406250</td>\n",
       "      <td>1.437500</td>\n",
       "      <td>1.635417</td>\n",
       "      <td>1.729167</td>\n",
       "      <td>1.760417</td>\n",
       "      <td>1.968750</td>\n",
       "      <td>2.437500</td>\n",
       "    </tr>\n",
       "    <tr>\n",
       "      <th>1997-10-07</th>\n",
       "      <td>4.000000</td>\n",
       "      <td>4.083333</td>\n",
       "      <td>4.041667</td>\n",
       "      <td>4.437500</td>\n",
       "      <td>4.000000</td>\n",
       "      <td>4.145833</td>\n",
       "      <td>4.072917</td>\n",
       "      <td>4.343750</td>\n",
       "      <td>4.645833</td>\n",
       "      <td>4.489583</td>\n",
       "      <td>...</td>\n",
       "      <td>1.500000</td>\n",
       "      <td>1.541667</td>\n",
       "      <td>1.625000</td>\n",
       "      <td>1.510417</td>\n",
       "      <td>1.406250</td>\n",
       "      <td>1.437500</td>\n",
       "      <td>1.635417</td>\n",
       "      <td>1.729167</td>\n",
       "      <td>1.760417</td>\n",
       "      <td>1.968750</td>\n",
       "    </tr>\n",
       "    <tr>\n",
       "      <th>1997-10-08</th>\n",
       "      <td>4.083333</td>\n",
       "      <td>4.000000</td>\n",
       "      <td>4.083333</td>\n",
       "      <td>4.041667</td>\n",
       "      <td>4.437500</td>\n",
       "      <td>4.000000</td>\n",
       "      <td>4.145833</td>\n",
       "      <td>4.072917</td>\n",
       "      <td>4.343750</td>\n",
       "      <td>4.645833</td>\n",
       "      <td>...</td>\n",
       "      <td>1.510417</td>\n",
       "      <td>1.500000</td>\n",
       "      <td>1.541667</td>\n",
       "      <td>1.625000</td>\n",
       "      <td>1.510417</td>\n",
       "      <td>1.406250</td>\n",
       "      <td>1.437500</td>\n",
       "      <td>1.635417</td>\n",
       "      <td>1.729167</td>\n",
       "      <td>1.760417</td>\n",
       "    </tr>\n",
       "    <tr>\n",
       "      <th>1997-10-09</th>\n",
       "      <td>4.145833</td>\n",
       "      <td>4.083333</td>\n",
       "      <td>4.000000</td>\n",
       "      <td>4.083333</td>\n",
       "      <td>4.041667</td>\n",
       "      <td>4.437500</td>\n",
       "      <td>4.000000</td>\n",
       "      <td>4.145833</td>\n",
       "      <td>4.072917</td>\n",
       "      <td>4.343750</td>\n",
       "      <td>...</td>\n",
       "      <td>1.531250</td>\n",
       "      <td>1.510417</td>\n",
       "      <td>1.500000</td>\n",
       "      <td>1.541667</td>\n",
       "      <td>1.625000</td>\n",
       "      <td>1.510417</td>\n",
       "      <td>1.406250</td>\n",
       "      <td>1.437500</td>\n",
       "      <td>1.635417</td>\n",
       "      <td>1.729167</td>\n",
       "    </tr>\n",
       "    <tr>\n",
       "      <th>1997-10-10</th>\n",
       "      <td>4.000000</td>\n",
       "      <td>4.145833</td>\n",
       "      <td>4.083333</td>\n",
       "      <td>4.000000</td>\n",
       "      <td>4.083333</td>\n",
       "      <td>4.041667</td>\n",
       "      <td>4.437500</td>\n",
       "      <td>4.000000</td>\n",
       "      <td>4.145833</td>\n",
       "      <td>4.072917</td>\n",
       "      <td>...</td>\n",
       "      <td>1.479167</td>\n",
       "      <td>1.531250</td>\n",
       "      <td>1.510417</td>\n",
       "      <td>1.500000</td>\n",
       "      <td>1.541667</td>\n",
       "      <td>1.625000</td>\n",
       "      <td>1.510417</td>\n",
       "      <td>1.406250</td>\n",
       "      <td>1.437500</td>\n",
       "      <td>1.635417</td>\n",
       "    </tr>\n",
       "  </tbody>\n",
       "</table>\n",
       "<p>5 rows × 99 columns</p>\n",
       "</div>"
      ],
      "text/plain": [
       "            lag_1_day  lag_2_day  lag_3_day  lag_4_day  lag_5_day  lag_6_day  \\\n",
       "Date                                                                           \n",
       "1997-10-06   4.083333   4.041667   4.437500   4.000000   4.145833   4.072917   \n",
       "1997-10-07   4.000000   4.083333   4.041667   4.437500   4.000000   4.145833   \n",
       "1997-10-08   4.083333   4.000000   4.083333   4.041667   4.437500   4.000000   \n",
       "1997-10-09   4.145833   4.083333   4.000000   4.083333   4.041667   4.437500   \n",
       "1997-10-10   4.000000   4.145833   4.083333   4.000000   4.083333   4.041667   \n",
       "\n",
       "            lag_7_day  lag_8_day  lag_9_day  lag_10_day  ...  lag_90_day  \\\n",
       "Date                                                     ...               \n",
       "1997-10-06   4.343750   4.645833   4.489583    4.000000  ...    1.541667   \n",
       "1997-10-07   4.072917   4.343750   4.645833    4.489583  ...    1.500000   \n",
       "1997-10-08   4.145833   4.072917   4.343750    4.645833  ...    1.510417   \n",
       "1997-10-09   4.000000   4.145833   4.072917    4.343750  ...    1.531250   \n",
       "1997-10-10   4.437500   4.000000   4.145833    4.072917  ...    1.479167   \n",
       "\n",
       "            lag_91_day  lag_92_day  lag_93_day  lag_94_day  lag_95_day  \\\n",
       "Date                                                                     \n",
       "1997-10-06    1.625000    1.510417    1.406250    1.437500    1.635417   \n",
       "1997-10-07    1.541667    1.625000    1.510417    1.406250    1.437500   \n",
       "1997-10-08    1.500000    1.541667    1.625000    1.510417    1.406250   \n",
       "1997-10-09    1.510417    1.500000    1.541667    1.625000    1.510417   \n",
       "1997-10-10    1.531250    1.510417    1.500000    1.541667    1.625000   \n",
       "\n",
       "            lag_96_day  lag_97_day  lag_98_day  lag_99_day  \n",
       "Date                                                        \n",
       "1997-10-06    1.729167    1.760417    1.968750    2.437500  \n",
       "1997-10-07    1.635417    1.729167    1.760417    1.968750  \n",
       "1997-10-08    1.437500    1.635417    1.729167    1.760417  \n",
       "1997-10-09    1.406250    1.437500    1.635417    1.729167  \n",
       "1997-10-10    1.510417    1.406250    1.437500    1.635417  \n",
       "\n",
       "[5 rows x 99 columns]"
      ]
     },
     "execution_count": 74,
     "metadata": {},
     "output_type": "execute_result"
    }
   ],
   "source": [
    "df_shifted.head()"
   ]
  },
  {
   "cell_type": "markdown",
   "metadata": {},
   "source": [
    "next we split the dataset into a train and test part. We choose to use the stock price between 2010 and 2019 as a training set and then test it on the 2019 data. The first model we try is the Ridge linear regression model"
   ]
  },
  {
   "cell_type": "code",
   "execution_count": 77,
   "metadata": {},
   "outputs": [],
   "source": [
    "data_range_train = [datetime.datetime(2010,1, 1), datetime.datetime(2019, 1, 1)]\n",
    "data_range_test = [datetime.datetime(2019,1, 1), datetime.datetime(2020, 1, 1)]\n",
    "\n",
    "X_train = df_shifted[data_range_train[0] : data_range_train[1]].values\n",
    "y_train = df['Open'][data_range_train[0] : data_range_train[1]].values\n",
    "\n",
    "X_test = df_shifted[data_range_test[0] : data_range_test[1]].values\n",
    "y_test = df['Open'][data_range_test[0] : data_range_test[1]].values\n",
    "\n"
   ]
  },
  {
   "cell_type": "code",
   "execution_count": 48,
   "metadata": {},
   "outputs": [],
   "source": [
    " from sklearn.linear_model import Ridge"
   ]
  },
  {
   "cell_type": "code",
   "execution_count": 78,
   "metadata": {},
   "outputs": [
    {
     "data": {
      "text/plain": [
       "Ridge()"
      ]
     },
     "execution_count": 78,
     "metadata": {},
     "output_type": "execute_result"
    }
   ],
   "source": [
    "model = Ridge()\n",
    "model.fit(X_train, y_train)"
   ]
  },
  {
   "cell_type": "code",
   "execution_count": 79,
   "metadata": {},
   "outputs": [],
   "source": [
    "y_pred = model.predict(X_test)"
   ]
  },
  {
   "cell_type": "code",
   "execution_count": 83,
   "metadata": {},
   "outputs": [
    {
     "data": {
      "image/png": "[encoded data removed]",
      "text/plain": [
       "<Figure size 432x288 with 1 Axes>"
      ]
     },
     "metadata": {
      "needs_background": "light"
     },
     "output_type": "display_data"
    }
   ],
   "source": [
    "fig, ax = plt.subplots()\n",
    "dates = df['Date'][data_range_test[0] : data_range_test[1]]\n",
    "ax.plot(dates, y_pred, label = \"prediction\")\n",
    "ax.plot(dates, y_test, label = \"real\")\n",
    "ax.legend()\n",
    "plt.show()"
   ]
  },
  {
   "cell_type": "markdown",
   "metadata": {},
   "source": [
    "let's see how often the model was correctly predicting an increase in price. We can use the `numpy.diff` function to calculate the difference between sequential dates. By mapping this to positive/negative values, we can then use the `sklearn.metrics.confusion_matrix` function to compute the confusion matrix."
   ]
  },
  {
   "cell_type": "code",
   "execution_count": 92,
   "metadata": {},
   "outputs": [
    {
     "name": "stdout",
     "output_type": "stream",
     "text": [
      "[[0.2310757  0.24302789]\n",
      " [0.23904382 0.28685259]]\n",
      "0.5179282868525896\n",
      "0.4820717131474104\n"
     ]
    }
   ],
   "source": [
    "y_pred_diff = np.diff(y_pred) > 0\n",
    "y_test_diff = np.diff(y_test) > 0\n",
    "c_mat = confusion_matrix(y_pred_diff, y_test_diff)/len(y_pred_diff)\n",
    "print(c_mat)\n",
    "print(c_mat[0,0]+c_mat[1,1])\n",
    "print(c_mat[0,1]+c_mat[1,0])\n",
    "\n"
   ]
  },
  {
   "cell_type": "markdown",
   "metadata": {},
   "source": []
  },
  {
   "cell_type": "code",
   "execution_count": null,
   "metadata": {},
   "outputs": [],
   "source": [
    "y_pred = pd.DataFrame({'y': model.predict(X_test1) })\n",
    "y_pred.index = X_test1.index"
   ]
  },
  {
   "cell_type": "code",
   "execution_count": null,
   "metadata": {},
   "outputs": [],
   "source": [
    "y"
   ]
  },
  {
   "cell_type": "code",
   "execution_count": null,
   "metadata": {},
   "outputs": [],
   "source": [
    "fig, ax = plt.subplots()\n",
    "y_test.plot(ax=ax, label = \"test\")\n",
    "y_pred.plot(ax=ax, label = \"pred\")\n",
    "fig.legend()\n",
    "plt.show()"
   ]
  },
  {
   "cell_type": "code",
   "execution_count": null,
   "metadata": {},
   "outputs": [],
   "source": [
    "r2_score(y_test,y_pred)"
   ]
  },
  {
   "cell_type": "code",
   "execution_count": null,
   "metadata": {},
   "outputs": [],
   "source": [
    "y_test"
   ]
  },
  {
   "cell_type": "markdown",
   "metadata": {},
   "source": [
    "# fourier transform"
   ]
  },
  {
   "cell_type": "code",
   "execution_count": null,
   "metadata": {},
   "outputs": [],
   "source": [
    "df['Open']"
   ]
  },
  {
   "cell_type": "code",
   "execution_count": null,
   "metadata": {},
   "outputs": [],
   "source": [
    "df_interpolate = df.set_index('Date').resample('1D').mean().interpolate('linear')\n"
   ]
  },
  {
   "cell_type": "code",
   "execution_count": null,
   "metadata": {},
   "outputs": [],
   "source": [
    "np.seterr(divide='ignore')\n",
    "\n",
    "fig, axs = plt.subplots(1,2, gridspec_kw={'width_ratios': [1.5, 1]}, figsize = (8,2*1.7))\n",
    "\n",
    "N = 1000\n",
    "dt = 50/N\n",
    "\n",
    "x = np.linspace(0,N*dt,N)\n",
    "y = np.sin(2*np.pi*x/3) + 1*np.sin(2*np.pi*x/5)\n",
    "\n",
    "axs[0].plot(x, y, label = \"$\\sin2\\pi t/3+\\sin2\\pi t/5$\")\n",
    "\n",
    "axs[0].set_xlabel(\"time [s]\")\n",
    "axs[0].set_ylabel(\"signal\")\n",
    "\n",
    "yf = scipy.fftpack.fft(y)[:int(N/2)]\n",
    "xf = np.linspace(0.0, 1/(2.0*dt), int(N/2))\n",
    "axs[1].plot(1/xf, np.abs(yf))\n",
    "axs[1].scatter(1/xf, np.abs(yf))\n",
    "\n",
    "axs[1].set_xlim(0,10)\n",
    "axs[1].set_xlabel(\"1/freq [s]\")\n",
    "axs[1].set_ylabel(\" fft(signal) [a.u]\")\n",
    "axs[1].axvline(3, ls=\"-.\", color=\"0\")\n",
    "axs[1].axvline(5, ls=\"-.\", color=\"0\")\n",
    "\n",
    "\n",
    "plt.legend()\n",
    "\n",
    "plt.tight_layout()\n",
    "plt.show()"
   ]
  },
  {
   "cell_type": "code",
   "execution_count": null,
   "metadata": {},
   "outputs": [],
   "source": [
    "np.seterr(divide='ignore')\n",
    "\n",
    "fig, axs = plt.subplots(1,2, gridspec_kw={'width_ratios': [1.5, 1]}, figsize = (8,2*1.7))\n",
    "\n",
    "N = 1000\n",
    "dt = 50/N\n",
    "\n",
    "x = df_interpolate.index\n",
    "y = df_interpolate['Open'].values\n",
    "\n",
    "N = len(x)\n",
    "dt = 1\n",
    "\n",
    "axs[0].plot(x, y, label = \"Amazon Stock Open\")\n",
    "\n",
    "axs[0].set_xlabel(\"Date [YYYY-MM]\")\n",
    "\n",
    "yf = scipy.fftpack.fft(y)[:int(N/2)]\n",
    "xf = np.linspace(0.0, 1/(2.0*dt), int(N/2))\n",
    "axs[1].plot(xf, np.abs(yf))\n",
    "axs[1].scatter(xf, np.abs(yf))\n",
    "\n",
    "# axs[1].set_xlim([0,50])\n",
    "# axs[1].set_ylim([0,50000])\n",
    "# axs[1].relim()\n",
    "# axs[1].autoscale(axis='y')\n",
    "axs[1].set_xlabel(\"1/freq [day]\")\n",
    "axs[1].set_ylabel(\" fft(signal) [a.u]\")\n",
    "# axs[1].set_yscale('log')\n",
    "\n",
    "plt.legend()\n",
    "\n",
    "plt.tight_layout()\n",
    "plt.show()"
   ]
  },
  {
   "cell_type": "code",
   "execution_count": null,
   "metadata": {},
   "outputs": [],
   "source": []
  }
 ],
 "metadata": {
  "kernelspec": {
   "display_name": "Python 3",
   "language": "python",
   "name": "python3"
  },
  "language_info": {
   "codemirror_mode": {
    "name": "ipython",
    "version": 3
   },
   "file_extension": ".py",
   "mimetype": "text/x-python",
   "name": "python",
   "nbconvert_exporter": "python",
   "pygments_lexer": "ipython3",
   "version": "3.8.3"
  }
 },
 "nbformat": 4,
 "nbformat_minor": 2
}
